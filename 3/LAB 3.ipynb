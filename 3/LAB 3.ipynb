{
 "cells": [
  {
   "cell_type": "code",
   "execution_count": 10,
   "metadata": {},
   "outputs": [],
   "source": [
    "#ID3 Algorithm"
   ]
  },
  {
   "cell_type": "code",
   "execution_count": 12,
   "metadata": {},
   "outputs": [
    {
     "name": "stdout",
     "output_type": "stream",
     "text": [
      "Decision Tree: {np.str_('Outlook'): {np.str_('Overcast'): np.str_('Yes'), np.str_('Rainy'): {np.str_('Windy'): {np.str_('False'): np.str_('Yes'), np.str_('True'): np.str_('No')}}, np.str_('Sunny'): {np.str_('Humidity'): {np.str_('High'): np.str_('No'), np.str_('Normal'): np.str_('Yes')}}}}\n",
      "Prediction for new sample: No\n"
     ]
    }
   ],
   "source": [
    "import csv\n",
    "import numpy as np\n",
    "import math\n",
    "\n",
    "def entropy(data):\n",
    "    counts = np.unique(data, return_counts=True)[1]\n",
    "    probabilities = counts / len(data)\n",
    "    return -np.sum(probabilities * np.log2(probabilities))\n",
    "\n",
    "def info_gain(data, feature_index, target_index):\n",
    "    total_entropy = entropy(data[:, target_index])\n",
    "    values, counts = np.unique(data[:, feature_index], return_counts=True)\n",
    "    subset_entropy = sum((counts[i] / len(data)) * entropy(data[data[:, feature_index] == v][:, target_index]) \n",
    "                         for i, v in enumerate(values))\n",
    "    return total_entropy - subset_entropy\n",
    "\n",
    "def build_tree(data, features, target_index):\n",
    "    if len(np.unique(data[:, target_index])) == 1:\n",
    "        return data[0, target_index]\n",
    "    if len(features) == 0:\n",
    "        return np.bincount(data[:, target_index].astype(int)).argmax()\n",
    "    gains = [info_gain(data, i, target_index) for i in range(len(features))]\n",
    "    best_feature_index = np.argmax(gains)\n",
    "    tree = {features[best_feature_index]: {}}\n",
    "    for value in np.unique(data[:, best_feature_index]):\n",
    "        subtree = build_tree(\n",
    "            np.delete(data[data[:, best_feature_index] == value], best_feature_index, axis=1),\n",
    "            np.delete(features, best_feature_index), target_index - 1)\n",
    "        tree[features[best_feature_index]][value] = subtree\n",
    "    return tree\n",
    "\n",
    "def classify(tree, sample):\n",
    "    if not isinstance(tree, dict):\n",
    "        return tree\n",
    "    feature = next(iter(tree))\n",
    "    return classify(tree[feature][sample[feature]], sample)\n",
    "\n",
    "with open(\"tennisdata.csv\") as f:\n",
    "    data = np.array(list(csv.reader(f)))\n",
    "\n",
    "header, data = data[0], data[1:]\n",
    "target_index, features = len(header) - 1, header[:-1]\n",
    "tree = build_tree(data, features, target_index)\n",
    "\n",
    "print(\"Decision Tree:\", tree)\n",
    "sample = {\"Outlook\": \"Sunny\", \"Temperature\": \"Cool\", \"Humidity\": \"High\", \"Windy\": \"False\"}\n",
    "print(\"Prediction for new sample:\", classify(tree, sample))"
   ]
  }
 ],
 "metadata": {
  "kernelspec": {
   "display_name": "Python 3 (ipykernel)",
   "language": "python",
   "name": "python3"
  },
  "language_info": {
   "codemirror_mode": {
    "name": "ipython",
    "version": 3
   },
   "file_extension": ".py",
   "mimetype": "text/x-python",
   "name": "python",
   "nbconvert_exporter": "python",
   "pygments_lexer": "ipython3",
   "version": "3.11.6"
  }
 },
 "nbformat": 4,
 "nbformat_minor": 4
}
