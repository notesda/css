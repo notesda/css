{
 "cells": [
  {
   "cell_type": "code",
   "execution_count": 1,
   "id": "e8ccc507-a7e7-4aa0-9c22-101050d62bd7",
   "metadata": {},
   "outputs": [
    {
     "name": "stdout",
     "output_type": "stream",
     "text": [
      "Accuracy: 87.50%\n",
      "Precision: 0.89\n",
      "Recall: 0.87\n",
      "\n",
      "Classification Report:\n",
      "                          precision    recall  f1-score   support\n",
      "\n",
      "             alt.atheism       0.87      0.92      0.89       236\n",
      "           comp.graphics       0.65      0.92      0.76       287\n",
      " comp.os.ms-windows.misc       0.98      0.43      0.60       290\n",
      "comp.sys.ibm.pc.hardware       0.64      0.87      0.74       285\n",
      "   comp.sys.mac.hardware       0.93      0.83      0.88       312\n",
      "          comp.windows.x       0.86      0.83      0.85       308\n",
      "            misc.forsale       0.90      0.74      0.81       276\n",
      "               rec.autos       0.92      0.93      0.93       304\n",
      "         rec.motorcycles       0.97      0.95      0.96       279\n",
      "      rec.sport.baseball       0.97      0.95      0.96       308\n",
      "        rec.sport.hockey       0.95      0.98      0.96       309\n",
      "               sci.crypt       0.89      0.97      0.93       290\n",
      "         sci.electronics       0.88      0.83      0.86       304\n",
      "                 sci.med       0.96      0.93      0.94       300\n",
      "               sci.space       0.91      0.98      0.94       297\n",
      "  soc.religion.christian       0.85      0.99      0.91       292\n",
      "      talk.politics.guns       0.89      0.94      0.92       270\n",
      "   talk.politics.mideast       0.95      0.99      0.97       272\n",
      "      talk.politics.misc       0.85      0.89      0.87       239\n",
      "      talk.religion.misc       0.94      0.54      0.68       196\n",
      "\n",
      "                accuracy                           0.87      5654\n",
      "               macro avg       0.89      0.87      0.87      5654\n",
      "            weighted avg       0.89      0.87      0.87      5654\n",
      "\n"
     ]
    }
   ],
   "source": [
    "from sklearn.datasets import fetch_20newsgroups\n",
    "from sklearn.feature_extraction.text import CountVectorizer\n",
    "from sklearn.model_selection import train_test_split\n",
    "from sklearn.naive_bayes import MultinomialNB\n",
    "from sklearn.metrics import accuracy_score, precision_score, recall_score, classification_report\n",
    "\n",
    "newsgroups = fetch_20newsgroups(subset='all')\n",
    "\n",
    "X = newsgroups.data\n",
    "y = newsgroups.target\n",
    "\n",
    "vectorizer = CountVectorizer(stop_words='english')\n",
    "X_vec = vectorizer.fit_transform(X)\n",
    "\n",
    "X_train, X_test, y_train, y_test = train_test_split(X_vec, y, test_size=0.3, random_state=42)\n",
    "\n",
    "model = MultinomialNB()\n",
    "model.fit(X_train, y_train)\n",
    "\n",
    "y_pred = model.predict(X_test)\n",
    "\n",
    "accuracy = accuracy_score(y_test, y_pred)\n",
    "precision = precision_score(y_test, y_pred, average='macro', labels=range(20))  # Macro average for multi-class\n",
    "recall = recall_score(y_test, y_pred, average='macro', labels=range(20))  # Macro average for multi-class\n",
    "\n",
    "print(f\"Accuracy: {accuracy * 100:.2f}%\")\n",
    "print(f\"Precision: {precision:.2f}\")\n",
    "print(f\"Recall: {recall:.2f}\")\n",
    "\n",
    "print(\"\\nClassification Report:\")\n",
    "print(classification_report(y_test, y_pred, target_names=newsgroups.target_names))\n"
   ]
  },
  {
   "cell_type": "code",
   "execution_count": null,
   "id": "456b7ebb-e128-4174-a7a8-ed591a458da6",
   "metadata": {},
   "outputs": [],
   "source": []
  }
 ],
 "metadata": {
  "kernelspec": {
   "display_name": "Python 3 (ipykernel)",
   "language": "python",
   "name": "python3"
  },
  "language_info": {
   "codemirror_mode": {
    "name": "ipython",
    "version": 3
   },
   "file_extension": ".py",
   "mimetype": "text/x-python",
   "name": "python",
   "nbconvert_exporter": "python",
   "pygments_lexer": "ipython3",
   "version": "3.11.6"
  }
 },
 "nbformat": 4,
 "nbformat_minor": 5
}
