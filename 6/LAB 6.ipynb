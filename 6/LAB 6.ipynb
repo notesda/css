{
 "cells": [
  {
   "cell_type": "code",
   "execution_count": 9,
   "metadata": {},
   "outputs": [
    {
     "name": "stdout",
     "output_type": "stream",
     "text": [
      "I went to my enemy's house today -> pos\n",
      "I am sick and tired of this place -> neg\n",
      "What an awesome view -> pos\n",
      "This is my best work -> pos\n",
      "I can't deal with this -> pos\n",
      "\n",
      "Accuracy: 0.6\n",
      "Recall: 1.0\n",
      "Precision: 0.5\n",
      "Confusion Matrix: \n",
      "[[1 2]\n",
      " [0 2]]\n"
     ]
    }
   ],
   "source": [
    "import pandas as pd\n",
    "from sklearn.model_selection import train_test_split\n",
    "from sklearn.feature_extraction.text import CountVectorizer\n",
    "from sklearn.naive_bayes import MultinomialNB\n",
    "from sklearn.metrics import accuracy_score, precision_score, recall_score, confusion_matrix\n",
    "\n",
    "msg = pd.read_csv('document.csv', names=['message', 'label'])\n",
    "msg['labelnum'] = msg.label.map({'pos': 1, 'neg': 0})\n",
    "\n",
    "X, y = msg['message'], msg['labelnum']\n",
    "Xtrain, Xtest, ytrain, ytest = train_test_split(X, y)\n",
    "\n",
    "count_v = CountVectorizer()\n",
    "Xtrain_dm = count_v.fit_transform(Xtrain)\n",
    "Xtest_dm = count_v.transform(Xtest)\n",
    "\n",
    "clf = MultinomialNB()\n",
    "clf.fit(Xtrain_dm, ytrain)\n",
    "pred = clf.predict(Xtest_dm)\n",
    "\n",
    "for doc, p in zip(Xtrain, pred):\n",
    "    p = 'pos' if p == 1 else 'neg'\n",
    "    print(\"%s -> %s\" % (doc, p))\n",
    "\n",
    "print(f\"\\nAccuracy: {accuracy_score(ytest, pred)}\")\n",
    "print(f\"Recall: {recall_score(ytest, pred)}\")\n",
    "print(f\"Precision: {precision_score(ytest, pred)}\")\n",
    "print(f\"Confusion Matrix: \\n{confusion_matrix(ytest, pred)}\")"
   ]
  }
 ],
 "metadata": {
  "kernelspec": {
   "display_name": "Python 3 (ipykernel)",
   "language": "python",
   "name": "python3"
  },
  "language_info": {
   "codemirror_mode": {
    "name": "ipython",
    "version": 3
   },
   "file_extension": ".py",
   "mimetype": "text/x-python",
   "name": "python",
   "nbconvert_exporter": "python",
   "pygments_lexer": "ipython3",
   "version": "3.11.6"
  }
 },
 "nbformat": 4,
 "nbformat_minor": 4
}
