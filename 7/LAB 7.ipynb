{
 "cells": [
  {
   "cell_type": "code",
   "execution_count": 17,
   "metadata": {},
   "outputs": [
    {
     "name": "stdout",
     "output_type": "stream",
     "text": [
      "Dataset Details:\n",
      "Name: None\n",
      "Description: None\n",
      "Number of features: 13\n",
      "Number of samples: 303\n",
      "Target Classes: None\n",
      "\n",
      "Feature Names: ['age', 'sex', 'cp', 'trestbps', 'chol', 'fbs', 'restecg', 'thalach', 'exang', 'oldpeak', 'slope', 'ca', 'thal']\n",
      "\n",
      "\n",
      "Accuracy: 56.04%\n",
      "Precision: 0.53\n",
      "Recall: 0.56\n",
      "\n",
      "Actual vs Predicted:\n",
      "   Actual  Predicted\n",
      "0       0          0\n",
      "1       3          1\n",
      "2       1          2\n",
      "3       2          1\n",
      "4       2          1\n"
     ]
    }
   ],
   "source": [
    "import pandas as pd\n",
    "from ucimlrepo import fetch_ucirepo\n",
    "from sklearn.model_selection import train_test_split\n",
    "from sklearn.ensemble import RandomForestClassifier\n",
    "from sklearn.metrics import accuracy_score, precision_score, recall_score\n",
    "\n",
    "dataset = fetch_ucirepo(id=45)\n",
    "\n",
    "print(\"Dataset Details:\")\n",
    "print(f\"Name: {dataset.name}\")\n",
    "print(f\"Description: {dataset.description}\")\n",
    "print(f\"Number of features: {dataset.data.features.shape[1]}\")\n",
    "print(f\"Number of samples: {dataset.data.features.shape[0]}\")\n",
    "print(f\"Target Classes: {dataset.data.target_names}\")\n",
    "\n",
    "feature_names = dataset.data.features.columns\n",
    "print(f\"\\nFeature Names: {list(feature_names)}\\n\")\n",
    "\n",
    "X = dataset.data.features\n",
    "y = dataset.data.targets.to_numpy().ravel() \n",
    "\n",
    "X_train, X_test, y_train, y_test = train_test_split(X, y, test_size=0.3, random_state=42)\n",
    "\n",
    "model = RandomForestClassifier(n_estimators=100, random_state=42)\n",
    "model.fit(X_train, y_train)\n",
    "\n",
    "y_pred = model.predict(X_test)\n",
    "\n",
    "accuracy = accuracy_score(y_test, y_pred)\n",
    "precision = precision_score(y_test, y_pred, average='weighted', zero_division=1)  # Handle undefined precision\n",
    "recall = recall_score(y_test, y_pred, average='weighted', zero_division=1)  # Handle undefined recall\n",
    "\n",
    "print(f\"\\nAccuracy: {accuracy * 100:.2f}%\")\n",
    "print(f\"Precision: {precision:.2f}\")\n",
    "print(f\"Recall: {recall:.2f}\")\n",
    "\n",
    "results_df = pd.DataFrame({'Actual': y_test, 'Predicted': y_pred})\n",
    "print(\"\\nActual vs Predicted:\")\n",
    "print(results_df.head())"
   ]
  }
 ],
 "metadata": {
  "kernelspec": {
   "display_name": "Python 3 (ipykernel)",
   "language": "python",
   "name": "python3"
  },
  "language_info": {
   "codemirror_mode": {
    "name": "ipython",
    "version": 3
   },
   "file_extension": ".py",
   "mimetype": "text/x-python",
   "name": "python",
   "nbconvert_exporter": "python",
   "pygments_lexer": "ipython3",
   "version": "3.11.6"
  }
 },
 "nbformat": 4,
 "nbformat_minor": 4
}
